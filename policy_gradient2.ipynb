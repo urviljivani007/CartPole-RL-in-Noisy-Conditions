{
 "cells": [
  {
   "cell_type": "code",
   "execution_count": 88,
   "metadata": {},
   "outputs": [],
   "source": [
    "import gym\n",
    "import numpy as np\n",
    "import matplotlib.pyplot as plt\n",
    "from tqdm import tqdm, trange\n",
    "import pandas as pd\n",
    "import torch\n",
    "import torch.nn as nn\n",
    "import torch.optim as optim\n",
    "import torch.nn.functional as F\n",
    "from torch.autograd import Variable\n",
    "from torch.distributions import Categorical\n",
    "%matplotlib inline"
   ]
  },
  {
   "cell_type": "code",
   "execution_count": 89,
   "metadata": {},
   "outputs": [
    {
     "name": "stdout",
     "output_type": "stream",
     "text": [
      "task1\n",
      "CartPoleEnv - Version 0.2.0, Noise case: 1\n",
      "task1\n",
      "\u001b[33mWARN: gym.spaces.Box autodetected dtype as <class 'numpy.float32'>. Please provide explicit dtype.\u001b[0m\n"
     ]
    }
   ],
   "source": [
    "env = gym.make('CartPole-v1')\n",
    "env.seed(1); torch.manual_seed(1);"
   ]
  },
  {
   "cell_type": "code",
   "execution_count": 90,
   "metadata": {},
   "outputs": [],
   "source": [
    "#Hyperparameters\n",
    "learning_rate = 0.01\n",
    "gamma = 0.99"
   ]
  },
  {
   "cell_type": "code",
   "execution_count": 91,
   "metadata": {},
   "outputs": [],
   "source": [
    "class Policy(nn.Module):\n",
    "    def __init__(self):\n",
    "        super(Policy, self).__init__()\n",
    "        self.state_space = env.observation_space.shape[0]\n",
    "        self.action_space = env.action_space.n\n",
    "        \n",
    "        self.l1 = nn.Linear(self.state_space, 128, bias=False)\n",
    "        self.l2 = nn.Linear(128,32, bias=False)\n",
    "        self.l3 = nn.Linear(32,self.action_space, bias=False)\n",
    "        self.gamma = gamma\n",
    "        \n",
    "        # Episode policy and reward history \n",
    "        self.policy_history = (torch.tensor(0))        \n",
    "        self.reward_episode = []\n",
    "        # Overall reward and loss history\n",
    "        self.reward_history = []\n",
    "        self.loss_history = []\n",
    "\n",
    "    def forward(self, x):    \n",
    "        model = torch.nn.Sequential(\n",
    "            self.l1,\n",
    "#             nn.Dropout(p=0.6),\n",
    "            nn.ReLU(),\n",
    "            self.l2,\n",
    "#             nn.Dropout(p=0.6),\n",
    "            nn.ReLU(),\n",
    "            self.l3,\n",
    "            nn.Softmax(dim=-1)\n",
    "        )\n",
    "        return model(x)"
   ]
  },
  {
   "cell_type": "code",
   "execution_count": 92,
   "metadata": {},
   "outputs": [],
   "source": [
    "policy = Policy()\n",
    "optimizer = optim.Adam(policy.parameters(), lr=learning_rate)"
   ]
  },
  {
   "cell_type": "code",
   "execution_count": 93,
   "metadata": {},
   "outputs": [],
   "source": [
    "def select_action(state):\n",
    "    #Select an action (0 or 1) by running policy model and choosing based on the probabilities in state\n",
    "    state = torch.from_numpy(state).type(torch.FloatTensor)\n",
    "    state = policy(Variable(state))\n",
    "    c = Categorical(state)\n",
    "    action = c.sample()\n",
    "    # Add log probability of our chosen action to our history\n",
    "    if policy.policy_history.dim() != 0:\n",
    "        policy.policy_history = torch.cat((policy.policy_history, c.log_prob(action).view(1)),0)\n",
    "    else:\n",
    "        policy.policy_history = (c.log_prob(action)).view(1)\n",
    "    return action"
   ]
  },
  {
   "cell_type": "code",
   "execution_count": 94,
   "metadata": {},
   "outputs": [],
   "source": [
    "def update_policy():\n",
    "    R = 0\n",
    "    rewards = []\n",
    "    \n",
    "    # Discount future rewards back to the present using gamma\n",
    "    for r in policy.reward_episode[::-1]:\n",
    "        R = r + policy.gamma * R\n",
    "        rewards.insert(0,R)\n",
    "        \n",
    "    # Scale rewards\n",
    "    rewards = torch.FloatTensor(rewards)\n",
    "    rewards = (rewards - rewards.mean()) / (rewards.std() + np.finfo(np.float32).eps)\n",
    "    \n",
    "    # Calculate loss\n",
    "    loss = (torch.sum(torch.mul(policy.policy_history, Variable(rewards)).mul(-1), -1))\n",
    "    # Update network weights\n",
    "    optimizer.zero_grad()\n",
    "    loss.backward()\n",
    "    optimizer.step()\n",
    "    \n",
    "    #Save and intialize episode history counters\n",
    "    policy.loss_history.append(loss)\n",
    "    policy.reward_history.append(np.sum(policy.reward_episode))\n",
    "    policy.policy_history = Variable(torch.Tensor())\n",
    "    policy.reward_episode= []"
   ]
  },
  {
   "cell_type": "code",
   "execution_count": 100,
   "metadata": {},
   "outputs": [],
   "source": [
    "def main(episodes):\n",
    "    running_reward = 10\n",
    "    count = 0 \n",
    "    max_ = 20\n",
    "    for episode in range(episodes):\n",
    "        state = env.reset() # Reset environment and record the starting state\n",
    "        done = False       \n",
    "    \n",
    "        for time in range(1000):\n",
    "            action = select_action(state)\n",
    "            # Step through environment using chosen action\n",
    "            state, reward, done, _ = env.step(int(action.data))\n",
    "\n",
    "            # Save reward\n",
    "            policy.reward_episode.append(reward)\n",
    "            if done:\n",
    "                break\n",
    "        \n",
    "        if(time == 499) :\n",
    "            count += 1\n",
    "            if(count > max_) :\n",
    "                print(\"max\",max_)\n",
    "                max_ = count\n",
    "                torch.save(policy,\"pg_task1_.pkl\")\n",
    "                if max_ == 100 :\n",
    "                    break\n",
    "        else :\n",
    "#             count = 0 \n",
    "            pass\n",
    "            \n",
    "        # Used to determine when the environment is solved.\n",
    "        running_reward = (running_reward * 0.99) + (time * 0.01)\n",
    "        \n",
    "        update_policy()\n",
    "\n",
    "        if episode % 50 == 0:\n",
    "            print('Episode {}\\tLast length: {:5d}\\tAverage length: {:.2f}'.format(episode, time, running_reward))        "
   ]
  },
  {
   "cell_type": "code",
   "execution_count": 101,
   "metadata": {},
   "outputs": [
    {
     "name": "stdout",
     "output_type": "stream",
     "text": [
      "Episode 0\tLast length:   499\tAverage length: 14.89\n",
      "max 20\n"
     ]
    },
    {
     "name": "stderr",
     "output_type": "stream",
     "text": [
      "/Users/uj007/anaconda3/envs/mlproject/lib/python3.6/site-packages/torch/serialization.py:360: UserWarning: Couldn't retrieve source code for container of type Policy. It won't be checked for correctness upon loading.\n",
      "  \"type \" + obj.__name__ + \". It won't be checked \"\n"
     ]
    },
    {
     "name": "stdout",
     "output_type": "stream",
     "text": [
      "max 21\n",
      "max 22\n",
      "max 23\n",
      "max 24\n",
      "max 25\n",
      "max 26\n",
      "max 27\n",
      "max 28\n",
      "max 29\n",
      "max 30\n",
      "max 31\n",
      "max 32\n",
      "max 33\n",
      "max 34\n",
      "max 35\n",
      "max 36\n",
      "max 37\n",
      "max 38\n",
      "max 39\n",
      "max 40\n",
      "max 41\n",
      "max 42\n",
      "max 43\n",
      "max 44\n",
      "max 45\n",
      "max 46\n",
      "max 47\n",
      "max 48\n",
      "max 49\n",
      "Episode 50\tLast length:   499\tAverage length: 204.95\n",
      "max 50\n",
      "max 51\n",
      "max 52\n",
      "max 53\n",
      "max 54\n",
      "max 55\n",
      "max 56\n",
      "max 57\n",
      "max 58\n",
      "max 59\n",
      "max 60\n",
      "max 61\n",
      "max 62\n",
      "max 63\n",
      "max 64\n",
      "max 65\n",
      "max 66\n",
      "max 67\n",
      "max 68\n",
      "max 69\n",
      "max 70\n",
      "max 71\n",
      "max 72\n",
      "max 73\n",
      "max 74\n",
      "max 75\n",
      "max 76\n",
      "max 77\n",
      "max 78\n",
      "max 79\n",
      "max 80\n",
      "max 81\n",
      "max 82\n",
      "max 83\n",
      "max 84\n",
      "max 85\n",
      "max 86\n",
      "max 87\n",
      "max 88\n",
      "max 89\n",
      "max 90\n",
      "max 91\n",
      "max 92\n",
      "max 93\n",
      "max 94\n",
      "max 95\n",
      "Episode 100\tLast length:   499\tAverage length: 316.95\n",
      "max 96\n",
      "max 97\n",
      "max 98\n",
      "max 99\n"
     ]
    }
   ],
   "source": [
    "episodes = 10000\n",
    "main(episodes)"
   ]
  },
  {
   "cell_type": "code",
   "execution_count": 102,
   "metadata": {},
   "outputs": [
    {
     "data": {
      "image/png": "[encoded data removed]",
      "text/plain": [
       "<Figure size 648x648 with 2 Axes>"
      ]
     },
     "metadata": {
      "needs_background": "light"
     },
     "output_type": "display_data"
    }
   ],
   "source": [
    "window = int(episodes/20)\n",
    "\n",
    "fig, ((ax1), (ax2)) = plt.subplots(2, 1, sharey=True, figsize=[9,9]);\n",
    "rolling_mean = pd.Series(policy.reward_history).rolling(window).mean()\n",
    "std = pd.Series(policy.reward_history).rolling(window).std()\n",
    "ax1.plot(rolling_mean)\n",
    "ax1.fill_between(range(len(policy.reward_history)),rolling_mean-std, rolling_mean+std, color='orange', alpha=0.2)\n",
    "ax1.set_title('Episode Length Moving Average ({}-episode window)'.format(window))\n",
    "ax1.set_xlabel('Episode'); ax1.set_ylabel('Episode Length')\n",
    "\n",
    "ax2.plot(policy.reward_history)\n",
    "ax2.set_title('Episode Length')\n",
    "ax2.set_xlabel('Episode'); ax2.set_ylabel('Episode Length')\n",
    "\n",
    "fig.tight_layout(pad=2)\n",
    "plt.show()\n",
    "#fig.savefig('results.png')\n"
   ]
  },
  {
   "cell_type": "code",
   "execution_count": 103,
   "metadata": {},
   "outputs": [
    {
     "name": "stdout",
     "output_type": "stream",
     "text": [
      "480.49\n"
     ]
    }
   ],
   "source": [
    "test_episodes = 100\n",
    "test_max_steps = 500\n",
    "avg = 0 \n",
    "policy = torch.load(\"pg_task1_.pkl\")\n",
    "policy.eval()\n",
    "for episode in range(1, test_episodes):\n",
    "    t = 0\n",
    "    rew = 0 \n",
    "    env.reset()\n",
    "    while t < test_max_steps: \n",
    "        \n",
    "        if(t == 0) :\n",
    "            action = 0 \n",
    "        else :\n",
    "            state = torch.from_numpy(state).type(torch.FloatTensor)\n",
    "            state = policy(Variable(state))\n",
    "            action = state.max(0)[1]\n",
    "            \n",
    "        state, reward, done , _ = env.step(int(action))\n",
    "        rew += reward\n",
    "        t += 1\n",
    "        if(done) :\n",
    "            break \n",
    "    avg += rew\n",
    "print(avg/test_episodes)\n",
    "env.close()"
   ]
  },
  {
   "cell_type": "code",
   "execution_count": null,
   "metadata": {},
   "outputs": [],
   "source": []
  }
 ],
 "metadata": {
  "kernelspec": {
   "display_name": "Python 3.6.10 64-bit ('mlproject': conda)",
   "language": "python",
   "name": "python361064bitmlprojectconda9490f51ea96947d395ba399624ad31e0"
  },
  "language_info": {
   "codemirror_mode": {
    "name": "ipython",
    "version": 3
   },
   "file_extension": ".py",
   "mimetype": "text/x-python",
   "name": "python",
   "nbconvert_exporter": "python",
   "pygments_lexer": "ipython3",
   "version": "3.6.10"
  }
 },
 "nbformat": 4,
 "nbformat_minor": 2
}
